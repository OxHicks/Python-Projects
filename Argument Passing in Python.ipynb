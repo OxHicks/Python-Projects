{
 "cells": [
  {
   "cell_type": "markdown",
   "id": "ce37d2a5",
   "metadata": {},
   "source": [
    "# Positional Arguments "
   ]
  },
  {
   "cell_type": "code",
   "execution_count": 3,
   "id": "7dd4b2af",
   "metadata": {},
   "outputs": [
    {
     "name": "stdout",
     "output_type": "stream",
     "text": [
      "Ahmed is enrolled in Mathematics class.\n"
     ]
    }
   ],
   "source": [
    "def student_information(class_name, student_name):\n",
    "    # Display information about a student and their class.\n",
    "    print(student_name + \" is enrolled in \" + class_name + \" class.\")\n",
    "# Positional arguments:\n",
    "student_information('Mathematics', 'Ahmed')\n",
    "# test"
   ]
  },
  {
   "cell_type": "markdown",
   "id": "d4eb8ce6",
   "metadata": {},
   "source": [
    "# Keyword Arguments"
   ]
  },
  {
   "cell_type": "code",
   "execution_count": 6,
   "id": "8c9bec54",
   "metadata": {},
   "outputs": [],
   "source": [
    "def student_information(class_name, student_name):\n",
    "    # Display information about a student and their class.\n",
    "    print(student_name + \" is enrolled in \" + class_name + \" class.\")\n"
   ]
  },
  {
   "cell_type": "markdown",
   "id": "0598d813",
   "metadata": {},
   "source": [
    "## function calling"
   ]
  },
  {
   "cell_type": "code",
   "execution_count": 7,
   "id": "7a932322",
   "metadata": {},
   "outputs": [
    {
     "name": "stdout",
     "output_type": "stream",
     "text": [
      "Ahmed is enrolled in Python class.\n"
     ]
    }
   ],
   "source": [
    "student_information(student_name=\"Ahmed\", class_name=\"Python\")"
   ]
  },
  {
   "cell_type": "markdown",
   "id": "d1cc7f5a",
   "metadata": {},
   "source": [
    "## Default Arguments"
   ]
  },
  {
   "cell_type": "code",
   "execution_count": 8,
   "id": "910a5906",
   "metadata": {},
   "outputs": [],
   "source": [
    "def enroll_student(student_name, course='Introduction to Python'):\n",
    "    # Enroll a student in a course with a default option.\n",
    "     print(\"Student Name: \" + student_name)\n",
    "     print(\"Enrolled Course: \" + course)\n"
   ]
  },
  {
   "cell_type": "code",
   "execution_count": 9,
   "id": "14761c74",
   "metadata": {},
   "outputs": [
    {
     "name": "stdout",
     "output_type": "stream",
     "text": [
      "Student Name: Ali\n",
      "Enrolled Course: Introduction to Python\n"
     ]
    }
   ],
   "source": [
    "enroll_student(\"Ali\")"
   ]
  },
  {
   "cell_type": "code",
   "execution_count": 10,
   "id": "f647b5cf",
   "metadata": {},
   "outputs": [
    {
     "name": "stdout",
     "output_type": "stream",
     "text": [
      "Student Name: Ali\n",
      "Enrolled Course: Physics\n"
     ]
    }
   ],
   "source": [
    "enroll_student(\"Ali\", \"Physics\")"
   ]
  },
  {
   "cell_type": "markdown",
   "id": "3d598f9c",
   "metadata": {},
   "source": [
    "## variable Length Arguments *"
   ]
  },
  {
   "cell_type": "code",
   "execution_count": 11,
   "id": "55c21de9",
   "metadata": {},
   "outputs": [],
   "source": [
    "def enroll_in_courses(student_name, *courses):\n",
    "    # Enroll a student in multiple courses.\n",
    "    print(\"Student: \" + student_name)\n",
    "    print(\"Enrolled in:\")\n",
    "    for course in courses:\n",
    "        print(\"- \" + course)\n"
   ]
  },
  {
   "cell_type": "code",
   "execution_count": 12,
   "id": "4fd6379a",
   "metadata": {},
   "outputs": [
    {
     "name": "stdout",
     "output_type": "stream",
     "text": [
      "Student: Sara\n",
      "Enrolled in:\n",
      "- English\n",
      "- Programming\n",
      "- Physics\n"
     ]
    }
   ],
   "source": [
    "enroll_in_courses(\"Sara\", \"English\", \"Programming\", \"Physics\")"
   ]
  },
  {
   "cell_type": "markdown",
   "id": "7de58c47",
   "metadata": {},
   "source": [
    "## Variable Length Arguments **"
   ]
  },
  {
   "cell_type": "code",
   "execution_count": 29,
   "id": "2228992f",
   "metadata": {},
   "outputs": [],
   "source": [
    "def enroll_student(student_name, **details):\n",
    "     # Enroll a student with additional details.\n",
    "    print(\"Enrolling \" + student_name + \" with the following details:\")\n",
    "    for key, value in details.items():\n",
    "        print(key + \" = \" + value)\n"
   ]
  },
  {
   "cell_type": "code",
   "execution_count": 31,
   "id": "e4d33814",
   "metadata": {},
   "outputs": [
    {
     "name": "stdout",
     "output_type": "stream",
     "text": [
      "Enrolling Smith with the following details:\n",
      "course = Algebra II\n",
      "semester = One\n",
      "payment_method = Credit Card\n",
      "student_age = 22\n"
     ]
    }
   ],
   "source": [
    "enroll_student('Smith', course='Algebra II', semester='One', payment_method='Credit Card', student_age=\"22\")"
   ]
  },
  {
   "cell_type": "code",
   "execution_count": 5,
   "id": "68c708b7",
   "metadata": {},
   "outputs": [],
   "source": [
    "def checkout_books(librarian_name, *book_titles, duration='2 weeks', **additional_info):\n",
    "    print(book_titles)\n",
    "    print(duration)\n",
    "    print(additional_info)"
   ]
  },
  {
   "cell_type": "code",
   "execution_count": 7,
   "id": "d18ed7ae",
   "metadata": {},
   "outputs": [
    {
     "name": "stdout",
     "output_type": "stream",
     "text": [
      "('book1', 'book2')\n",
      "2 weeks\n",
      "{}\n"
     ]
    }
   ],
   "source": [
    "checkout_books('sara', 'book1', 'book2')"
   ]
  },
  {
   "cell_type": "code",
   "execution_count": 6,
   "id": "a705f993",
   "metadata": {},
   "outputs": [
    {
     "name": "stdout",
     "output_type": "stream",
     "text": [
      "('book1', 'book2')\n",
      "3 weeks\n",
      "{}\n"
     ]
    }
   ],
   "source": [
    "checkout_books('sara', 'book1', 'book2', duration='3 weeks')"
   ]
  },
  {
   "cell_type": "code",
   "execution_count": 8,
   "id": "dbe22bb0",
   "metadata": {},
   "outputs": [
    {
     "ename": "SyntaxError",
     "evalue": "invalid syntax. Maybe you meant '==' or ':=' instead of '='? (44337553.py, line 1)",
     "output_type": "error",
     "traceback": [
      "\u001b[1;36m  Cell \u001b[1;32mIn[8], line 1\u001b[1;36m\u001b[0m\n\u001b[1;33m    checkout_books('sara', 'book1', 'book2', duration='3 weeks', {late_fee='20$'})\u001b[0m\n\u001b[1;37m                                                                  ^\u001b[0m\n\u001b[1;31mSyntaxError\u001b[0m\u001b[1;31m:\u001b[0m invalid syntax. Maybe you meant '==' or ':=' instead of '='?\n"
     ]
    }
   ],
   "source": [
    "checkout_books('sara', 'book1', 'book2', duration='3 weeks', {late_fee='20$'})"
   ]
  },
  {
   "cell_type": "code",
   "execution_count": null,
   "id": "2e86e075",
   "metadata": {},
   "outputs": [],
   "source": []
  }
 ],
 "metadata": {
  "kernelspec": {
   "display_name": "Python 3 (ipykernel)",
   "language": "python",
   "name": "python3"
  },
  "language_info": {
   "codemirror_mode": {
    "name": "ipython",
    "version": 3
   },
   "file_extension": ".py",
   "mimetype": "text/x-python",
   "name": "python",
   "nbconvert_exporter": "python",
   "pygments_lexer": "ipython3",
   "version": "3.11.5"
  },
  "varInspector": {
   "cols": {
    "lenName": 16,
    "lenType": 16,
    "lenVar": 40
   },
   "kernels_config": {
    "python": {
     "delete_cmd_postfix": "",
     "delete_cmd_prefix": "del ",
     "library": "var_list.py",
     "varRefreshCmd": "print(var_dic_list())"
    },
    "r": {
     "delete_cmd_postfix": ") ",
     "delete_cmd_prefix": "rm(",
     "library": "var_list.r",
     "varRefreshCmd": "cat(var_dic_list()) "
    }
   },
   "types_to_exclude": [
    "module",
    "function",
    "builtin_function_or_method",
    "instance",
    "_Feature"
   ],
   "window_display": false
  }
 },
 "nbformat": 4,
 "nbformat_minor": 5
}
