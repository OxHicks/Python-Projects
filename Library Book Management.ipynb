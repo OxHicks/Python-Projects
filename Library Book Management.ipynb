{
 "cells": [
  {
   "cell_type": "code",
   "execution_count": 1,
   "id": "a7e73af1",
   "metadata": {},
   "outputs": [],
   "source": [
    "def checkout_books(librarian_name, *book_titles, duration='2 weeks', **kwargs):\n",
    "    # Creating a summary of the checkout process\n",
    "    checkout_summary = {\n",
    "        'Checkout Processed by': librarian_name,\n",
    "        'Books Checked Out': list(book_titles),\n",
    "        'Checkout Duration': duration,\n",
    "        'Additional Checkout Details': kwargs\n",
    "    }\n",
    "\n",
    "    # If there are special conditions, add them to the summary\n",
    "    if 'special_conditions' in kwargs:\n",
    "        checkout_summary['Special Conditions for Checkout'] = kwargs['special_conditions']\n",
    "\n",
    "    return checkout_summary"
   ]
  },
  {
   "cell_type": "code",
   "execution_count": 3,
   "id": "1485e29d",
   "metadata": {},
   "outputs": [
    {
     "name": "stdout",
     "output_type": "stream",
     "text": [
      "{'Checkout Processed by': 'Sarah Connor', 'Books Checked Out': ['1984', 'Brave New World'], 'Checkout Duration': '3 weeks', 'Additional Checkout Details': {'late_fee': '$0.25', 'renewals_allowed': 2, 'special_conditions': 'Handle with care'}, 'Special Conditions for Checkout': 'Handle with care'}\n"
     ]
    }
   ],
   "source": [
    "# Example usage:\n",
    "print(checkout_books(\n",
    "    \"Sarah Connor\",\n",
    "    '1984', \n",
    "    'Brave New World',\n",
    "    duration='3 weeks',\n",
    "    late_fee='$0.25',\n",
    "    renewals_allowed=2,\n",
    "    special_conditions='Handle with care'\n",
    "))"
   ]
  },
  {
   "cell_type": "code",
   "execution_count": null,
   "id": "b8905c17",
   "metadata": {},
   "outputs": [],
   "source": []
  }
 ],
 "metadata": {
  "kernelspec": {
   "display_name": "Python 3 (ipykernel)",
   "language": "python",
   "name": "python3"
  },
  "language_info": {
   "codemirror_mode": {
    "name": "ipython",
    "version": 3
   },
   "file_extension": ".py",
   "mimetype": "text/x-python",
   "name": "python",
   "nbconvert_exporter": "python",
   "pygments_lexer": "ipython3",
   "version": "3.11.5"
  },
  "varInspector": {
   "cols": {
    "lenName": 16,
    "lenType": 16,
    "lenVar": 40
   },
   "kernels_config": {
    "python": {
     "delete_cmd_postfix": "",
     "delete_cmd_prefix": "del ",
     "library": "var_list.py",
     "varRefreshCmd": "print(var_dic_list())"
    },
    "r": {
     "delete_cmd_postfix": ") ",
     "delete_cmd_prefix": "rm(",
     "library": "var_list.r",
     "varRefreshCmd": "cat(var_dic_list()) "
    }
   },
   "types_to_exclude": [
    "module",
    "function",
    "builtin_function_or_method",
    "instance",
    "_Feature"
   ],
   "window_display": false
  }
 },
 "nbformat": 4,
 "nbformat_minor": 5
}
